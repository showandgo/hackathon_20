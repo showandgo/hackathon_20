{
 "cells": [
  {
   "cell_type": "code",
   "execution_count": 1,
   "metadata": {},
   "outputs": [],
   "source": [
    "import pandas as pd\n",
    "import numpy as np\n",
    "\n",
    "from matplotlib import rcParams\n",
    "rcParams['font.family'] = 'sans-serif'\n",
    "import matplotlib.pyplot as plt\n",
    "%matplotlib inline\n",
    "\n",
    "from shapely.geometry import Point, Polygon\n",
    "import geopandas as gpd"
   ]
  },
  {
   "cell_type": "code",
   "execution_count": 2,
   "metadata": {},
   "outputs": [],
   "source": [
    "us = \"cb_2018_us_county_20m/cb_2018_us_county_20m.shp\""
   ]
  },
  {
   "cell_type": "code",
   "execution_count": 3,
   "metadata": {},
   "outputs": [],
   "source": [
    "map1 = gpd.read_file(us)"
   ]
  },
  {
   "cell_type": "code",
   "execution_count": 4,
   "metadata": {},
   "outputs": [
    {
     "data": {
      "text/plain": [
       "<AxesSubplot:>"
      ]
     },
     "execution_count": 4,
     "metadata": {},
     "output_type": "execute_result"
    },
    {
     "data": {
      "image/png": "[encoded data removed]",
      "text/plain": [
       "<Figure size 432x288 with 1 Axes>"
      ]
     },
     "metadata": {
      "needs_background": "light"
     },
     "output_type": "display_data"
    }
   ],
   "source": [
    "map1.plot()"
   ]
  },
  {
   "cell_type": "code",
   "execution_count": 5,
   "metadata": {},
   "outputs": [
    {
     "data": {
      "text/html": [
       "<div>\n",
       "<style scoped>\n",
       "    .dataframe tbody tr th:only-of-type {\n",
       "        vertical-align: middle;\n",
       "    }\n",
       "\n",
       "    .dataframe tbody tr th {\n",
       "        vertical-align: top;\n",
       "    }\n",
       "\n",
       "    .dataframe thead th {\n",
       "        text-align: right;\n",
       "    }\n",
       "</style>\n",
       "<table border=\"1\" class=\"dataframe\">\n",
       "  <thead>\n",
       "    <tr style=\"text-align: right;\">\n",
       "      <th></th>\n",
       "      <th>STATEFP</th>\n",
       "      <th>COUNTYFP</th>\n",
       "      <th>COUNTYNS</th>\n",
       "      <th>AFFGEOID</th>\n",
       "      <th>GEOID</th>\n",
       "      <th>NAME</th>\n",
       "      <th>LSAD</th>\n",
       "      <th>ALAND</th>\n",
       "      <th>AWATER</th>\n",
       "      <th>geometry</th>\n",
       "    </tr>\n",
       "  </thead>\n",
       "  <tbody>\n",
       "    <tr>\n",
       "      <th>0</th>\n",
       "      <td>37</td>\n",
       "      <td>017</td>\n",
       "      <td>01026336</td>\n",
       "      <td>0500000US37017</td>\n",
       "      <td>37017</td>\n",
       "      <td>Bladen</td>\n",
       "      <td>06</td>\n",
       "      <td>2265887723</td>\n",
       "      <td>33010866</td>\n",
       "      <td>POLYGON ((-78.90200 34.83527, -78.79960 34.850...</td>\n",
       "    </tr>\n",
       "    <tr>\n",
       "      <th>1</th>\n",
       "      <td>37</td>\n",
       "      <td>167</td>\n",
       "      <td>01025844</td>\n",
       "      <td>0500000US37167</td>\n",
       "      <td>37167</td>\n",
       "      <td>Stanly</td>\n",
       "      <td>06</td>\n",
       "      <td>1023370459</td>\n",
       "      <td>25242751</td>\n",
       "      <td>POLYGON ((-80.49737 35.20210, -80.29542 35.502...</td>\n",
       "    </tr>\n",
       "    <tr>\n",
       "      <th>2</th>\n",
       "      <td>39</td>\n",
       "      <td>153</td>\n",
       "      <td>01074088</td>\n",
       "      <td>0500000US39153</td>\n",
       "      <td>39153</td>\n",
       "      <td>Summit</td>\n",
       "      <td>06</td>\n",
       "      <td>1069181981</td>\n",
       "      <td>18958267</td>\n",
       "      <td>POLYGON ((-81.68699 41.13596, -81.68495 41.277...</td>\n",
       "    </tr>\n",
       "    <tr>\n",
       "      <th>3</th>\n",
       "      <td>42</td>\n",
       "      <td>113</td>\n",
       "      <td>01213687</td>\n",
       "      <td>0500000US42113</td>\n",
       "      <td>42113</td>\n",
       "      <td>Sullivan</td>\n",
       "      <td>06</td>\n",
       "      <td>1165338428</td>\n",
       "      <td>6617028</td>\n",
       "      <td>POLYGON ((-76.81373 41.59003, -76.22014 41.541...</td>\n",
       "    </tr>\n",
       "    <tr>\n",
       "      <th>4</th>\n",
       "      <td>48</td>\n",
       "      <td>459</td>\n",
       "      <td>01384015</td>\n",
       "      <td>0500000US48459</td>\n",
       "      <td>48459</td>\n",
       "      <td>Upshur</td>\n",
       "      <td>06</td>\n",
       "      <td>1509910100</td>\n",
       "      <td>24878888</td>\n",
       "      <td>POLYGON ((-95.15274 32.66095, -95.15211 32.902...</td>\n",
       "    </tr>\n",
       "    <tr>\n",
       "      <th>...</th>\n",
       "      <td>...</td>\n",
       "      <td>...</td>\n",
       "      <td>...</td>\n",
       "      <td>...</td>\n",
       "      <td>...</td>\n",
       "      <td>...</td>\n",
       "      <td>...</td>\n",
       "      <td>...</td>\n",
       "      <td>...</td>\n",
       "      <td>...</td>\n",
       "    </tr>\n",
       "    <tr>\n",
       "      <th>3215</th>\n",
       "      <td>38</td>\n",
       "      <td>005</td>\n",
       "      <td>01034216</td>\n",
       "      <td>0500000US38005</td>\n",
       "      <td>38005</td>\n",
       "      <td>Benson</td>\n",
       "      <td>06</td>\n",
       "      <td>3596569006</td>\n",
       "      <td>131708143</td>\n",
       "      <td>POLYGON ((-99.84661 48.37130, -99.49292 48.370...</td>\n",
       "    </tr>\n",
       "    <tr>\n",
       "      <th>3216</th>\n",
       "      <td>72</td>\n",
       "      <td>079</td>\n",
       "      <td>01804520</td>\n",
       "      <td>0500000US72079</td>\n",
       "      <td>72079</td>\n",
       "      <td>Lajas</td>\n",
       "      <td>13</td>\n",
       "      <td>155287827</td>\n",
       "      <td>106643202</td>\n",
       "      <td>POLYGON ((-67.10904 18.05608, -67.06791 18.066...</td>\n",
       "    </tr>\n",
       "    <tr>\n",
       "      <th>3217</th>\n",
       "      <td>31</td>\n",
       "      <td>159</td>\n",
       "      <td>00835901</td>\n",
       "      <td>0500000US31159</td>\n",
       "      <td>31159</td>\n",
       "      <td>Seward</td>\n",
       "      <td>06</td>\n",
       "      <td>1479995670</td>\n",
       "      <td>11542537</td>\n",
       "      <td>POLYGON ((-97.36812 41.04695, -96.91094 41.046...</td>\n",
       "    </tr>\n",
       "    <tr>\n",
       "      <th>3218</th>\n",
       "      <td>37</td>\n",
       "      <td>023</td>\n",
       "      <td>01008539</td>\n",
       "      <td>0500000US37023</td>\n",
       "      <td>37023</td>\n",
       "      <td>Burke</td>\n",
       "      <td>06</td>\n",
       "      <td>1311146878</td>\n",
       "      <td>20719896</td>\n",
       "      <td>POLYGON ((-81.90665 35.88338, -81.94319 35.960...</td>\n",
       "    </tr>\n",
       "    <tr>\n",
       "      <th>3219</th>\n",
       "      <td>13</td>\n",
       "      <td>261</td>\n",
       "      <td>00343504</td>\n",
       "      <td>0500000US13261</td>\n",
       "      <td>13261</td>\n",
       "      <td>Sumter</td>\n",
       "      <td>06</td>\n",
       "      <td>1250630094</td>\n",
       "      <td>25227638</td>\n",
       "      <td>POLYGON ((-84.43301 32.04196, -84.43121 32.134...</td>\n",
       "    </tr>\n",
       "  </tbody>\n",
       "</table>\n",
       "<p>3220 rows × 10 columns</p>\n",
       "</div>"
      ],
      "text/plain": [
       "     STATEFP COUNTYFP  COUNTYNS        AFFGEOID  GEOID      NAME LSAD  \\\n",
       "0         37      017  01026336  0500000US37017  37017    Bladen   06   \n",
       "1         37      167  01025844  0500000US37167  37167    Stanly   06   \n",
       "2         39      153  01074088  0500000US39153  39153    Summit   06   \n",
       "3         42      113  01213687  0500000US42113  42113  Sullivan   06   \n",
       "4         48      459  01384015  0500000US48459  48459    Upshur   06   \n",
       "...      ...      ...       ...             ...    ...       ...  ...   \n",
       "3215      38      005  01034216  0500000US38005  38005    Benson   06   \n",
       "3216      72      079  01804520  0500000US72079  72079     Lajas   13   \n",
       "3217      31      159  00835901  0500000US31159  31159    Seward   06   \n",
       "3218      37      023  01008539  0500000US37023  37023     Burke   06   \n",
       "3219      13      261  00343504  0500000US13261  13261    Sumter   06   \n",
       "\n",
       "           ALAND     AWATER                                           geometry  \n",
       "0     2265887723   33010866  POLYGON ((-78.90200 34.83527, -78.79960 34.850...  \n",
       "1     1023370459   25242751  POLYGON ((-80.49737 35.20210, -80.29542 35.502...  \n",
       "2     1069181981   18958267  POLYGON ((-81.68699 41.13596, -81.68495 41.277...  \n",
       "3     1165338428    6617028  POLYGON ((-76.81373 41.59003, -76.22014 41.541...  \n",
       "4     1509910100   24878888  POLYGON ((-95.15274 32.66095, -95.15211 32.902...  \n",
       "...          ...        ...                                                ...  \n",
       "3215  3596569006  131708143  POLYGON ((-99.84661 48.37130, -99.49292 48.370...  \n",
       "3216   155287827  106643202  POLYGON ((-67.10904 18.05608, -67.06791 18.066...  \n",
       "3217  1479995670   11542537  POLYGON ((-97.36812 41.04695, -96.91094 41.046...  \n",
       "3218  1311146878   20719896  POLYGON ((-81.90665 35.88338, -81.94319 35.960...  \n",
       "3219  1250630094   25227638  POLYGON ((-84.43301 32.04196, -84.43121 32.134...  \n",
       "\n",
       "[3220 rows x 10 columns]"
      ]
     },
     "execution_count": 5,
     "metadata": {},
     "output_type": "execute_result"
    }
   ],
   "source": [
    "map1"
   ]
  },
  {
   "cell_type": "code",
   "execution_count": 6,
   "metadata": {},
   "outputs": [],
   "source": [
    "fl_map = map1[map1['STATEFP'] == '12']"
   ]
  },
  {
   "cell_type": "code",
   "execution_count": 7,
   "metadata": {},
   "outputs": [
    {
     "data": {
      "text/plain": [
       "<AxesSubplot:>"
      ]
     },
     "execution_count": 7,
     "metadata": {},
     "output_type": "execute_result"
    },
    {
     "data": {
      "image/png": "[encoded data removed]",
      "text/plain": [
       "<Figure size 432x288 with 1 Axes>"
      ]
     },
     "metadata": {
      "needs_background": "light"
     },
     "output_type": "display_data"
    }
   ],
   "source": [
    "fl_map.plot()"
   ]
  },
  {
   "cell_type": "code",
   "execution_count": 8,
   "metadata": {},
   "outputs": [
    {
     "name": "stderr",
     "output_type": "stream",
     "text": [
      "/Users/louischua53/opt/anaconda3/envs/geocode/lib/python3.6/site-packages/pyproj/crs/crs.py:53: FutureWarning: '+init=<authority>:<code>' syntax is deprecated. '<authority>:<code>' is the preferred initialization method. When making the change, be mindful of axis order changes: https://pyproj4.github.io/pyproj/stable/gotchas.html#axis-order-changes-in-proj-6\n",
      "  return _prepare_from_string(\" \".join(pjargs))\n"
     ]
    }
   ],
   "source": [
    "fl_map_proj = fl_map.to_crs({'init': 'epsg:2777' })"
   ]
  },
  {
   "cell_type": "code",
   "execution_count": 9,
   "metadata": {},
   "outputs": [
    {
     "data": {
      "text/plain": [
       "<AxesSubplot:>"
      ]
     },
     "execution_count": 9,
     "metadata": {},
     "output_type": "execute_result"
    },
    {
     "data": {
      "image/png": "[encoded data removed]",
      "text/plain": [
       "<Figure size 432x288 with 1 Axes>"
      ]
     },
     "metadata": {
      "needs_background": "light"
     },
     "output_type": "display_data"
    }
   ],
   "source": [
    "fl_map_proj.plot()"
   ]
  },
  {
   "cell_type": "code",
   "execution_count": 10,
   "metadata": {},
   "outputs": [
    {
     "data": {
      "text/html": [
       "<div>\n",
       "<style scoped>\n",
       "    .dataframe tbody tr th:only-of-type {\n",
       "        vertical-align: middle;\n",
       "    }\n",
       "\n",
       "    .dataframe tbody tr th {\n",
       "        vertical-align: top;\n",
       "    }\n",
       "\n",
       "    .dataframe thead th {\n",
       "        text-align: right;\n",
       "    }\n",
       "</style>\n",
       "<table border=\"1\" class=\"dataframe\">\n",
       "  <thead>\n",
       "    <tr style=\"text-align: right;\">\n",
       "      <th></th>\n",
       "      <th>STATEFP</th>\n",
       "      <th>COUNTYFP</th>\n",
       "      <th>COUNTYNS</th>\n",
       "      <th>AFFGEOID</th>\n",
       "      <th>GEOID</th>\n",
       "      <th>NAME</th>\n",
       "      <th>LSAD</th>\n",
       "      <th>ALAND</th>\n",
       "      <th>AWATER</th>\n",
       "      <th>geometry</th>\n",
       "    </tr>\n",
       "  </thead>\n",
       "  <tbody>\n",
       "    <tr>\n",
       "      <th>34</th>\n",
       "      <td>12</td>\n",
       "      <td>123</td>\n",
       "      <td>00295728</td>\n",
       "      <td>0500000US12123</td>\n",
       "      <td>12123</td>\n",
       "      <td>Taylor</td>\n",
       "      <td>06</td>\n",
       "      <td>2702180641</td>\n",
       "      <td>489194665</td>\n",
       "      <td>POLYGON ((-88506.747 641541.682, -80657.738 65...</td>\n",
       "    </tr>\n",
       "    <tr>\n",
       "      <th>67</th>\n",
       "      <td>12</td>\n",
       "      <td>061</td>\n",
       "      <td>00307624</td>\n",
       "      <td>0500000US12061</td>\n",
       "      <td>12061</td>\n",
       "      <td>Indian River</td>\n",
       "      <td>06</td>\n",
       "      <td>1302203812</td>\n",
       "      <td>295578903</td>\n",
       "      <td>POLYGON ((211708.417 385068.316, 212917.855 38...</td>\n",
       "    </tr>\n",
       "    <tr>\n",
       "      <th>68</th>\n",
       "      <td>12</td>\n",
       "      <td>073</td>\n",
       "      <td>00306916</td>\n",
       "      <td>0500000US12073</td>\n",
       "      <td>12073</td>\n",
       "      <td>Leon</td>\n",
       "      <td>06</td>\n",
       "      <td>1727086019</td>\n",
       "      <td>90548394</td>\n",
       "      <td>POLYGON ((-157359.693 670644.928, -150546.224 ...</td>\n",
       "    </tr>\n",
       "    <tr>\n",
       "      <th>129</th>\n",
       "      <td>12</td>\n",
       "      <td>103</td>\n",
       "      <td>00295745</td>\n",
       "      <td>0500000US12103</td>\n",
       "      <td>12103</td>\n",
       "      <td>Pinellas</td>\n",
       "      <td>06</td>\n",
       "      <td>709006650</td>\n",
       "      <td>866038559</td>\n",
       "      <td>POLYGON ((17392.060 426687.467, 37846.103 4265...</td>\n",
       "    </tr>\n",
       "    <tr>\n",
       "      <th>338</th>\n",
       "      <td>12</td>\n",
       "      <td>049</td>\n",
       "      <td>00295746</td>\n",
       "      <td>0500000US12049</td>\n",
       "      <td>12049</td>\n",
       "      <td>Hardee</td>\n",
       "      <td>06</td>\n",
       "      <td>1651329788</td>\n",
       "      <td>1439673</td>\n",
       "      <td>POLYGON ((95958.957 367468.682, 144393.350 367...</td>\n",
       "    </tr>\n",
       "    <tr>\n",
       "      <th>...</th>\n",
       "      <td>...</td>\n",
       "      <td>...</td>\n",
       "      <td>...</td>\n",
       "      <td>...</td>\n",
       "      <td>...</td>\n",
       "      <td>...</td>\n",
       "      <td>...</td>\n",
       "      <td>...</td>\n",
       "      <td>...</td>\n",
       "      <td>...</td>\n",
       "    </tr>\n",
       "    <tr>\n",
       "      <th>3028</th>\n",
       "      <td>12</td>\n",
       "      <td>101</td>\n",
       "      <td>00295739</td>\n",
       "      <td>0500000US12101</td>\n",
       "      <td>12101</td>\n",
       "      <td>Pasco</td>\n",
       "      <td>06</td>\n",
       "      <td>1933862570</td>\n",
       "      <td>315412854</td>\n",
       "      <td>POLYGON ((17371.909 426905.082, 26867.711 4345...</td>\n",
       "    </tr>\n",
       "    <tr>\n",
       "      <th>3065</th>\n",
       "      <td>12</td>\n",
       "      <td>079</td>\n",
       "      <td>00295731</td>\n",
       "      <td>0500000US12079</td>\n",
       "      <td>12079</td>\n",
       "      <td>Madison</td>\n",
       "      <td>06</td>\n",
       "      <td>1804001485</td>\n",
       "      <td>49634046</td>\n",
       "      <td>POLYGON ((-69827.147 672411.885, -61490.227 67...</td>\n",
       "    </tr>\n",
       "    <tr>\n",
       "      <th>3094</th>\n",
       "      <td>12</td>\n",
       "      <td>115</td>\n",
       "      <td>00295741</td>\n",
       "      <td>0500000US12115</td>\n",
       "      <td>12115</td>\n",
       "      <td>Sarasota</td>\n",
       "      <td>06</td>\n",
       "      <td>1442282866</td>\n",
       "      <td>436195743</td>\n",
       "      <td>POLYGON ((36975.592 339663.885, 76136.022 3388...</td>\n",
       "    </tr>\n",
       "    <tr>\n",
       "      <th>3110</th>\n",
       "      <td>12</td>\n",
       "      <td>023</td>\n",
       "      <td>00306909</td>\n",
       "      <td>0500000US12023</td>\n",
       "      <td>12023</td>\n",
       "      <td>Columbia</td>\n",
       "      <td>06</td>\n",
       "      <td>2065645989</td>\n",
       "      <td>9755973</td>\n",
       "      <td>POLYGON ((26156.425 621706.889, 29975.413 6253...</td>\n",
       "    </tr>\n",
       "    <tr>\n",
       "      <th>3137</th>\n",
       "      <td>12</td>\n",
       "      <td>031</td>\n",
       "      <td>00293656</td>\n",
       "      <td>0500000US12031</td>\n",
       "      <td>12031</td>\n",
       "      <td>Duval</td>\n",
       "      <td>06</td>\n",
       "      <td>1975993782</td>\n",
       "      <td>402807900</td>\n",
       "      <td>POLYGON ((99045.109 658642.814, 100180.487 659...</td>\n",
       "    </tr>\n",
       "  </tbody>\n",
       "</table>\n",
       "<p>67 rows × 10 columns</p>\n",
       "</div>"
      ],
      "text/plain": [
       "     STATEFP COUNTYFP  COUNTYNS        AFFGEOID  GEOID          NAME LSAD  \\\n",
       "34        12      123  00295728  0500000US12123  12123        Taylor   06   \n",
       "67        12      061  00307624  0500000US12061  12061  Indian River   06   \n",
       "68        12      073  00306916  0500000US12073  12073          Leon   06   \n",
       "129       12      103  00295745  0500000US12103  12103      Pinellas   06   \n",
       "338       12      049  00295746  0500000US12049  12049        Hardee   06   \n",
       "...      ...      ...       ...             ...    ...           ...  ...   \n",
       "3028      12      101  00295739  0500000US12101  12101         Pasco   06   \n",
       "3065      12      079  00295731  0500000US12079  12079       Madison   06   \n",
       "3094      12      115  00295741  0500000US12115  12115      Sarasota   06   \n",
       "3110      12      023  00306909  0500000US12023  12023      Columbia   06   \n",
       "3137      12      031  00293656  0500000US12031  12031         Duval   06   \n",
       "\n",
       "           ALAND     AWATER                                           geometry  \n",
       "34    2702180641  489194665  POLYGON ((-88506.747 641541.682, -80657.738 65...  \n",
       "67    1302203812  295578903  POLYGON ((211708.417 385068.316, 212917.855 38...  \n",
       "68    1727086019   90548394  POLYGON ((-157359.693 670644.928, -150546.224 ...  \n",
       "129    709006650  866038559  POLYGON ((17392.060 426687.467, 37846.103 4265...  \n",
       "338   1651329788    1439673  POLYGON ((95958.957 367468.682, 144393.350 367...  \n",
       "...          ...        ...                                                ...  \n",
       "3028  1933862570  315412854  POLYGON ((17371.909 426905.082, 26867.711 4345...  \n",
       "3065  1804001485   49634046  POLYGON ((-69827.147 672411.885, -61490.227 67...  \n",
       "3094  1442282866  436195743  POLYGON ((36975.592 339663.885, 76136.022 3388...  \n",
       "3110  2065645989    9755973  POLYGON ((26156.425 621706.889, 29975.413 6253...  \n",
       "3137  1975993782  402807900  POLYGON ((99045.109 658642.814, 100180.487 659...  \n",
       "\n",
       "[67 rows x 10 columns]"
      ]
     },
     "execution_count": 10,
     "metadata": {},
     "output_type": "execute_result"
    }
   ],
   "source": [
    "fl_map_proj"
   ]
  },
  {
   "cell_type": "code",
   "execution_count": 11,
   "metadata": {},
   "outputs": [],
   "source": [
    "df = pd.read_csv(\"County_Classifications.csv\")"
   ]
  },
  {
   "cell_type": "code",
   "execution_count": 12,
   "metadata": {},
   "outputs": [],
   "source": [
    "fl = df[df['State']=='FL']"
   ]
  },
  {
   "cell_type": "code",
   "execution_count": 13,
   "metadata": {},
   "outputs": [
    {
     "data": {
      "text/html": [
       "<div>\n",
       "<style scoped>\n",
       "    .dataframe tbody tr th:only-of-type {\n",
       "        vertical-align: middle;\n",
       "    }\n",
       "\n",
       "    .dataframe tbody tr th {\n",
       "        vertical-align: top;\n",
       "    }\n",
       "\n",
       "    .dataframe thead th {\n",
       "        text-align: right;\n",
       "    }\n",
       "</style>\n",
       "<table border=\"1\" class=\"dataframe\">\n",
       "  <thead>\n",
       "    <tr style=\"text-align: right;\">\n",
       "      <th></th>\n",
       "      <th>FIPStxt</th>\n",
       "      <th>State</th>\n",
       "      <th>County</th>\n",
       "      <th>RuralUrbanContinuumCode2013</th>\n",
       "      <th>UrbanInfluenceCode2013</th>\n",
       "      <th>RuralUrbanContinuumCode2003</th>\n",
       "      <th>UrbanInfluenceCode2003</th>\n",
       "      <th>Metro2013</th>\n",
       "      <th>Nonmetro2013</th>\n",
       "      <th>Micropolitan2013</th>\n",
       "      <th>...</th>\n",
       "      <th>FarmDependent2003</th>\n",
       "      <th>ManufacturingDependent2000</th>\n",
       "      <th>LowEducation2000</th>\n",
       "      <th>RetirementDestination2000</th>\n",
       "      <th>PersistentPoverty2000</th>\n",
       "      <th>Noncore2013</th>\n",
       "      <th>Type_2015_Nonspecialized_NO</th>\n",
       "      <th>Metro_Adjacent2013</th>\n",
       "      <th>PersistentChildPoverty2004</th>\n",
       "      <th>RecreationDependent2000</th>\n",
       "    </tr>\n",
       "  </thead>\n",
       "  <tbody>\n",
       "    <tr>\n",
       "      <th>324</th>\n",
       "      <td>12001</td>\n",
       "      <td>FL</td>\n",
       "      <td>Alachua</td>\n",
       "      <td>2.0</td>\n",
       "      <td>2.0</td>\n",
       "      <td>3.0</td>\n",
       "      <td>2.0</td>\n",
       "      <td>1.0</td>\n",
       "      <td>0.0</td>\n",
       "      <td>0.0</td>\n",
       "      <td>...</td>\n",
       "      <td>0.0</td>\n",
       "      <td>0.0</td>\n",
       "      <td>0.0</td>\n",
       "      <td>0.0</td>\n",
       "      <td>1.0</td>\n",
       "      <td>0.0</td>\n",
       "      <td>0.0</td>\n",
       "      <td>0.0</td>\n",
       "      <td>0.0</td>\n",
       "      <td>0.0</td>\n",
       "    </tr>\n",
       "    <tr>\n",
       "      <th>325</th>\n",
       "      <td>12003</td>\n",
       "      <td>FL</td>\n",
       "      <td>Baker</td>\n",
       "      <td>1.0</td>\n",
       "      <td>1.0</td>\n",
       "      <td>1.0</td>\n",
       "      <td>1.0</td>\n",
       "      <td>1.0</td>\n",
       "      <td>0.0</td>\n",
       "      <td>0.0</td>\n",
       "      <td>...</td>\n",
       "      <td>0.0</td>\n",
       "      <td>0.0</td>\n",
       "      <td>0.0</td>\n",
       "      <td>1.0</td>\n",
       "      <td>0.0</td>\n",
       "      <td>0.0</td>\n",
       "      <td>0.0</td>\n",
       "      <td>0.0</td>\n",
       "      <td>0.0</td>\n",
       "      <td>0.0</td>\n",
       "    </tr>\n",
       "    <tr>\n",
       "      <th>326</th>\n",
       "      <td>12005</td>\n",
       "      <td>FL</td>\n",
       "      <td>Bay</td>\n",
       "      <td>3.0</td>\n",
       "      <td>2.0</td>\n",
       "      <td>3.0</td>\n",
       "      <td>2.0</td>\n",
       "      <td>1.0</td>\n",
       "      <td>0.0</td>\n",
       "      <td>0.0</td>\n",
       "      <td>...</td>\n",
       "      <td>0.0</td>\n",
       "      <td>0.0</td>\n",
       "      <td>0.0</td>\n",
       "      <td>0.0</td>\n",
       "      <td>0.0</td>\n",
       "      <td>0.0</td>\n",
       "      <td>0.0</td>\n",
       "      <td>0.0</td>\n",
       "      <td>0.0</td>\n",
       "      <td>0.0</td>\n",
       "    </tr>\n",
       "    <tr>\n",
       "      <th>327</th>\n",
       "      <td>12007</td>\n",
       "      <td>FL</td>\n",
       "      <td>Bradford</td>\n",
       "      <td>6.0</td>\n",
       "      <td>4.0</td>\n",
       "      <td>6.0</td>\n",
       "      <td>6.0</td>\n",
       "      <td>0.0</td>\n",
       "      <td>1.0</td>\n",
       "      <td>0.0</td>\n",
       "      <td>...</td>\n",
       "      <td>0.0</td>\n",
       "      <td>0.0</td>\n",
       "      <td>0.0</td>\n",
       "      <td>1.0</td>\n",
       "      <td>0.0</td>\n",
       "      <td>1.0</td>\n",
       "      <td>1.0</td>\n",
       "      <td>1.0</td>\n",
       "      <td>0.0</td>\n",
       "      <td>0.0</td>\n",
       "    </tr>\n",
       "    <tr>\n",
       "      <th>328</th>\n",
       "      <td>12009</td>\n",
       "      <td>FL</td>\n",
       "      <td>Brevard</td>\n",
       "      <td>2.0</td>\n",
       "      <td>2.0</td>\n",
       "      <td>2.0</td>\n",
       "      <td>2.0</td>\n",
       "      <td>1.0</td>\n",
       "      <td>0.0</td>\n",
       "      <td>0.0</td>\n",
       "      <td>...</td>\n",
       "      <td>0.0</td>\n",
       "      <td>0.0</td>\n",
       "      <td>0.0</td>\n",
       "      <td>1.0</td>\n",
       "      <td>0.0</td>\n",
       "      <td>0.0</td>\n",
       "      <td>1.0</td>\n",
       "      <td>0.0</td>\n",
       "      <td>0.0</td>\n",
       "      <td>0.0</td>\n",
       "    </tr>\n",
       "    <tr>\n",
       "      <th>...</th>\n",
       "      <td>...</td>\n",
       "      <td>...</td>\n",
       "      <td>...</td>\n",
       "      <td>...</td>\n",
       "      <td>...</td>\n",
       "      <td>...</td>\n",
       "      <td>...</td>\n",
       "      <td>...</td>\n",
       "      <td>...</td>\n",
       "      <td>...</td>\n",
       "      <td>...</td>\n",
       "      <td>...</td>\n",
       "      <td>...</td>\n",
       "      <td>...</td>\n",
       "      <td>...</td>\n",
       "      <td>...</td>\n",
       "      <td>...</td>\n",
       "      <td>...</td>\n",
       "      <td>...</td>\n",
       "      <td>...</td>\n",
       "      <td>...</td>\n",
       "    </tr>\n",
       "    <tr>\n",
       "      <th>386</th>\n",
       "      <td>12125</td>\n",
       "      <td>FL</td>\n",
       "      <td>Union</td>\n",
       "      <td>6.0</td>\n",
       "      <td>4.0</td>\n",
       "      <td>6.0</td>\n",
       "      <td>7.0</td>\n",
       "      <td>0.0</td>\n",
       "      <td>1.0</td>\n",
       "      <td>0.0</td>\n",
       "      <td>...</td>\n",
       "      <td>0.0</td>\n",
       "      <td>0.0</td>\n",
       "      <td>0.0</td>\n",
       "      <td>1.0</td>\n",
       "      <td>0.0</td>\n",
       "      <td>1.0</td>\n",
       "      <td>1.0</td>\n",
       "      <td>1.0</td>\n",
       "      <td>0.0</td>\n",
       "      <td>0.0</td>\n",
       "    </tr>\n",
       "    <tr>\n",
       "      <th>387</th>\n",
       "      <td>12127</td>\n",
       "      <td>FL</td>\n",
       "      <td>Volusia</td>\n",
       "      <td>2.0</td>\n",
       "      <td>2.0</td>\n",
       "      <td>2.0</td>\n",
       "      <td>2.0</td>\n",
       "      <td>1.0</td>\n",
       "      <td>0.0</td>\n",
       "      <td>0.0</td>\n",
       "      <td>...</td>\n",
       "      <td>0.0</td>\n",
       "      <td>0.0</td>\n",
       "      <td>0.0</td>\n",
       "      <td>1.0</td>\n",
       "      <td>0.0</td>\n",
       "      <td>0.0</td>\n",
       "      <td>1.0</td>\n",
       "      <td>0.0</td>\n",
       "      <td>0.0</td>\n",
       "      <td>0.0</td>\n",
       "    </tr>\n",
       "    <tr>\n",
       "      <th>388</th>\n",
       "      <td>12129</td>\n",
       "      <td>FL</td>\n",
       "      <td>Wakulla</td>\n",
       "      <td>2.0</td>\n",
       "      <td>2.0</td>\n",
       "      <td>2.0</td>\n",
       "      <td>2.0</td>\n",
       "      <td>1.0</td>\n",
       "      <td>0.0</td>\n",
       "      <td>0.0</td>\n",
       "      <td>...</td>\n",
       "      <td>0.0</td>\n",
       "      <td>1.0</td>\n",
       "      <td>0.0</td>\n",
       "      <td>1.0</td>\n",
       "      <td>0.0</td>\n",
       "      <td>0.0</td>\n",
       "      <td>0.0</td>\n",
       "      <td>0.0</td>\n",
       "      <td>0.0</td>\n",
       "      <td>0.0</td>\n",
       "    </tr>\n",
       "    <tr>\n",
       "      <th>389</th>\n",
       "      <td>12131</td>\n",
       "      <td>FL</td>\n",
       "      <td>Walton</td>\n",
       "      <td>3.0</td>\n",
       "      <td>2.0</td>\n",
       "      <td>6.0</td>\n",
       "      <td>6.0</td>\n",
       "      <td>1.0</td>\n",
       "      <td>0.0</td>\n",
       "      <td>0.0</td>\n",
       "      <td>...</td>\n",
       "      <td>0.0</td>\n",
       "      <td>0.0</td>\n",
       "      <td>0.0</td>\n",
       "      <td>1.0</td>\n",
       "      <td>0.0</td>\n",
       "      <td>0.0</td>\n",
       "      <td>0.0</td>\n",
       "      <td>0.0</td>\n",
       "      <td>1.0</td>\n",
       "      <td>1.0</td>\n",
       "    </tr>\n",
       "    <tr>\n",
       "      <th>390</th>\n",
       "      <td>12133</td>\n",
       "      <td>FL</td>\n",
       "      <td>Washington</td>\n",
       "      <td>6.0</td>\n",
       "      <td>6.0</td>\n",
       "      <td>6.0</td>\n",
       "      <td>6.0</td>\n",
       "      <td>0.0</td>\n",
       "      <td>1.0</td>\n",
       "      <td>0.0</td>\n",
       "      <td>...</td>\n",
       "      <td>0.0</td>\n",
       "      <td>0.0</td>\n",
       "      <td>0.0</td>\n",
       "      <td>0.0</td>\n",
       "      <td>0.0</td>\n",
       "      <td>1.0</td>\n",
       "      <td>0.0</td>\n",
       "      <td>1.0</td>\n",
       "      <td>1.0</td>\n",
       "      <td>0.0</td>\n",
       "    </tr>\n",
       "  </tbody>\n",
       "</table>\n",
       "<p>67 rows × 45 columns</p>\n",
       "</div>"
      ],
      "text/plain": [
       "     FIPStxt State      County  RuralUrbanContinuumCode2013  \\\n",
       "324    12001    FL     Alachua                          2.0   \n",
       "325    12003    FL       Baker                          1.0   \n",
       "326    12005    FL         Bay                          3.0   \n",
       "327    12007    FL    Bradford                          6.0   \n",
       "328    12009    FL     Brevard                          2.0   \n",
       "..       ...   ...         ...                          ...   \n",
       "386    12125    FL       Union                          6.0   \n",
       "387    12127    FL     Volusia                          2.0   \n",
       "388    12129    FL     Wakulla                          2.0   \n",
       "389    12131    FL      Walton                          3.0   \n",
       "390    12133    FL  Washington                          6.0   \n",
       "\n",
       "     UrbanInfluenceCode2013  RuralUrbanContinuumCode2003  \\\n",
       "324                     2.0                          3.0   \n",
       "325                     1.0                          1.0   \n",
       "326                     2.0                          3.0   \n",
       "327                     4.0                          6.0   \n",
       "328                     2.0                          2.0   \n",
       "..                      ...                          ...   \n",
       "386                     4.0                          6.0   \n",
       "387                     2.0                          2.0   \n",
       "388                     2.0                          2.0   \n",
       "389                     2.0                          6.0   \n",
       "390                     6.0                          6.0   \n",
       "\n",
       "     UrbanInfluenceCode2003  Metro2013  Nonmetro2013  Micropolitan2013  ...  \\\n",
       "324                     2.0        1.0           0.0               0.0  ...   \n",
       "325                     1.0        1.0           0.0               0.0  ...   \n",
       "326                     2.0        1.0           0.0               0.0  ...   \n",
       "327                     6.0        0.0           1.0               0.0  ...   \n",
       "328                     2.0        1.0           0.0               0.0  ...   \n",
       "..                      ...        ...           ...               ...  ...   \n",
       "386                     7.0        0.0           1.0               0.0  ...   \n",
       "387                     2.0        1.0           0.0               0.0  ...   \n",
       "388                     2.0        1.0           0.0               0.0  ...   \n",
       "389                     6.0        1.0           0.0               0.0  ...   \n",
       "390                     6.0        0.0           1.0               0.0  ...   \n",
       "\n",
       "     FarmDependent2003  ManufacturingDependent2000  LowEducation2000  \\\n",
       "324                0.0                         0.0               0.0   \n",
       "325                0.0                         0.0               0.0   \n",
       "326                0.0                         0.0               0.0   \n",
       "327                0.0                         0.0               0.0   \n",
       "328                0.0                         0.0               0.0   \n",
       "..                 ...                         ...               ...   \n",
       "386                0.0                         0.0               0.0   \n",
       "387                0.0                         0.0               0.0   \n",
       "388                0.0                         1.0               0.0   \n",
       "389                0.0                         0.0               0.0   \n",
       "390                0.0                         0.0               0.0   \n",
       "\n",
       "     RetirementDestination2000  PersistentPoverty2000  Noncore2013  \\\n",
       "324                        0.0                    1.0          0.0   \n",
       "325                        1.0                    0.0          0.0   \n",
       "326                        0.0                    0.0          0.0   \n",
       "327                        1.0                    0.0          1.0   \n",
       "328                        1.0                    0.0          0.0   \n",
       "..                         ...                    ...          ...   \n",
       "386                        1.0                    0.0          1.0   \n",
       "387                        1.0                    0.0          0.0   \n",
       "388                        1.0                    0.0          0.0   \n",
       "389                        1.0                    0.0          0.0   \n",
       "390                        0.0                    0.0          1.0   \n",
       "\n",
       "     Type_2015_Nonspecialized_NO  Metro_Adjacent2013  \\\n",
       "324                          0.0                 0.0   \n",
       "325                          0.0                 0.0   \n",
       "326                          0.0                 0.0   \n",
       "327                          1.0                 1.0   \n",
       "328                          1.0                 0.0   \n",
       "..                           ...                 ...   \n",
       "386                          1.0                 1.0   \n",
       "387                          1.0                 0.0   \n",
       "388                          0.0                 0.0   \n",
       "389                          0.0                 0.0   \n",
       "390                          0.0                 1.0   \n",
       "\n",
       "     PersistentChildPoverty2004  RecreationDependent2000  \n",
       "324                         0.0                      0.0  \n",
       "325                         0.0                      0.0  \n",
       "326                         0.0                      0.0  \n",
       "327                         0.0                      0.0  \n",
       "328                         0.0                      0.0  \n",
       "..                          ...                      ...  \n",
       "386                         0.0                      0.0  \n",
       "387                         0.0                      0.0  \n",
       "388                         0.0                      0.0  \n",
       "389                         1.0                      1.0  \n",
       "390                         1.0                      0.0  \n",
       "\n",
       "[67 rows x 45 columns]"
      ]
     },
     "execution_count": 13,
     "metadata": {},
     "output_type": "execute_result"
    }
   ],
   "source": [
    "fl"
   ]
  },
  {
   "cell_type": "code",
   "execution_count": 14,
   "metadata": {},
   "outputs": [],
   "source": [
    "fl_merge = fl_map_proj.merge(fl, left_on='NAME', right_on='County')"
   ]
  },
  {
   "cell_type": "code",
   "execution_count": 16,
   "metadata": {},
   "outputs": [],
   "source": [
    "fl_merge.to_csv('fl_merged.csv')"
   ]
  },
  {
   "cell_type": "markdown",
   "metadata": {},
   "source": [
    "### For Hackathon prototype\n",
    "The six counties have usable municipal bond data"
   ]
  },
  {
   "cell_type": "code",
   "execution_count": null,
   "metadata": {},
   "outputs": [],
   "source": [
    "cty = ['Miami-Dade', 'Broward', 'Brevard', 'Hillsborough', 'Pasco', 'Sarasota']"
   ]
  },
  {
   "cell_type": "code",
   "execution_count": 18,
   "metadata": {},
   "outputs": [],
   "source": [
    "fl_low = fl_merge[fl_merge['NAME'].isin(cty)]"
   ]
  },
  {
   "cell_type": "code",
   "execution_count": 101,
   "metadata": {},
   "outputs": [],
   "source": [
    "#fl_low = fl_merge[fl_merge['RuralUrbanContinuumCode2013'] >= 6.0]\n",
    "#fl_low = fl_merge[(fl_merge['RuralUrbanContinuumCode2013'] < 7.0) & (fl_merge['RuralUrbanContinuumCode2013'] > 3.0)]"
   ]
  },
  {
   "cell_type": "code",
   "execution_count": 59,
   "metadata": {},
   "outputs": [],
   "source": [
    "# Get the county labels for mapping \n",
    "\n",
    "fl_low = pd.DataFrame(fl_low['NAME'])"
   ]
  },
  {
   "cell_type": "code",
   "execution_count": 20,
   "metadata": {},
   "outputs": [
    {
     "data": {
      "text/plain": [
       "(-471761.76031392184, 332829.8796256156, -18369.73412411172, 794129.3485560459)"
      ]
     },
     "execution_count": 20,
     "metadata": {},
     "output_type": "execute_result"
    },
    {
     "data": {
      "image/png": "[encoded data removed]",
      "text/plain": [
       "<Figure size 1080x720 with 1 Axes>"
      ]
     },
     "metadata": {
      "needs_background": "light"
     },
     "output_type": "display_data"
    }
   ],
   "source": [
    "fig, ax = plt.subplots(1, 1, figsize= (15,10), frameon= False)\n",
    "\n",
    "fl_merge.plot(column= 'RuralUrbanContinuumCode2013',\n",
    "             cmap='Reds_r',\n",
    "             ax=ax)\n",
    "\n",
    "for x, y, label in zip(fl_low.centroid.geometry.x, fl_low.centroid.geometry.y, fl_low['County']):\n",
    "    ax.annotate(label, xy=(x,y), xytext=(3,3), textcoords= \"offset points\", ha='center', color = 'darkgrey')\n",
    "\n",
    "\n",
    "#ax.set_title('Urban to Rural', fontsize=24)\n",
    "ax.axis('off')"
   ]
  },
  {
   "cell_type": "code",
   "execution_count": 61,
   "metadata": {},
   "outputs": [],
   "source": [
    "fl_low.to_csv(\"fl_focus_counties.csv\")"
   ]
  },
  {
   "cell_type": "markdown",
   "metadata": {},
   "source": [
    "### Get data from joe"
   ]
  },
  {
   "cell_type": "code",
   "execution_count": 67,
   "metadata": {},
   "outputs": [],
   "source": [
    "df_joe = pd.read_csv(\"oco2_joe.csv\")"
   ]
  },
  {
   "cell_type": "code",
   "execution_count": 91,
   "metadata": {},
   "outputs": [],
   "source": [
    "oco_14 = df_joe[df_joe['xco2 (Moles Mole^{-1})'] != -999999.000000]"
   ]
  },
  {
   "cell_type": "code",
   "execution_count": 87,
   "metadata": {},
   "outputs": [
    {
     "data": {
      "text/plain": [
       "array([2.01407021e+13])"
      ]
     },
     "execution_count": 87,
     "metadata": {},
     "output_type": "execute_result"
    }
   ],
   "source": [
    "df_joe['time (YYYYMMDDHHMMSS)'].unique()"
   ]
  },
  {
   "cell_type": "code",
   "execution_count": 114,
   "metadata": {},
   "outputs": [],
   "source": [
    "df_joe19 = pd.read_csv(\"oco2_joe19.csv\")"
   ]
  },
  {
   "cell_type": "code",
   "execution_count": 115,
   "metadata": {},
   "outputs": [],
   "source": [
    "df_joe19 = df_joe19.loc[:, [\"longitude\", \"latitude\", \"County Name\", \"xco2 (Moles Mole^{-1})\", \"Pop. per Sq. Mi.\", \"NO_FARMS12\"]]"
   ]
  },
  {
   "cell_type": "code",
   "execution_count": 16,
   "metadata": {},
   "outputs": [],
   "source": [
    "cty = ['Miami-Dade', 'Broward', 'Brevard', 'Hillsborough', 'Pasco', 'Sarasota']"
   ]
  },
  {
   "cell_type": "code",
   "execution_count": 136,
   "metadata": {},
   "outputs": [],
   "source": [
    "comb = df_joe19[df_joe19['County Name'].isin(cty)]"
   ]
  },
  {
   "cell_type": "code",
   "execution_count": 137,
   "metadata": {},
   "outputs": [],
   "source": [
    "comb.to_csv('combined.csv')"
   ]
  },
  {
   "cell_type": "code",
   "execution_count": 105,
   "metadata": {},
   "outputs": [],
   "source": [
    "df_joe15 = pd.read_csv(\"oco2_joe15.csv\")\n",
    "df_joe16 = pd.read_csv(\"oco2_joe16.csv\")"
   ]
  },
  {
   "cell_type": "code",
   "execution_count": 108,
   "metadata": {},
   "outputs": [],
   "source": [
    "oco_16 = df_joe16[df_joe16['xco2 (Moles Mole^{-1})'] != -999999.000000]"
   ]
  },
  {
   "cell_type": "code",
   "execution_count": 94,
   "metadata": {},
   "outputs": [
    {
     "data": {
      "text/plain": [
       "count    143.000000\n",
       "mean       0.000396\n",
       "std        0.000002\n",
       "min        0.000389\n",
       "25%        0.000395\n",
       "50%        0.000397\n",
       "75%        0.000398\n",
       "max        0.000401\n",
       "Name: xco2 (Moles Mole^{-1}), dtype: float64"
      ]
     },
     "execution_count": 94,
     "metadata": {},
     "output_type": "execute_result"
    }
   ],
   "source": [
    "oco_14['xco2 (Moles Mole^{-1})'].describe()"
   ]
  },
  {
   "cell_type": "code",
   "execution_count": 107,
   "metadata": {},
   "outputs": [
    {
     "data": {
      "text/plain": [
       "count    84.000000\n",
       "mean      0.000396\n",
       "std       0.000003\n",
       "min       0.000389\n",
       "25%       0.000394\n",
       "50%       0.000396\n",
       "75%       0.000399\n",
       "max       0.000404\n",
       "Name: xco2 (Moles Mole^{-1}), dtype: float64"
      ]
     },
     "execution_count": 107,
     "metadata": {},
     "output_type": "execute_result"
    }
   ],
   "source": [
    "oco_15['xco2 (Moles Mole^{-1})'].describe()"
   ]
  },
  {
   "cell_type": "code",
   "execution_count": 109,
   "metadata": {},
   "outputs": [
    {
     "data": {
      "text/plain": [
       "count    42.000000\n",
       "mean      0.000399\n",
       "std       0.000002\n",
       "min       0.000395\n",
       "25%       0.000398\n",
       "50%       0.000399\n",
       "75%       0.000400\n",
       "max       0.000405\n",
       "Name: xco2 (Moles Mole^{-1}), dtype: float64"
      ]
     },
     "execution_count": 109,
     "metadata": {},
     "output_type": "execute_result"
    }
   ],
   "source": [
    "oco_16['xco2 (Moles Mole^{-1})'].describe()"
   ]
  },
  {
   "cell_type": "code",
   "execution_count": 95,
   "metadata": {},
   "outputs": [
    {
     "data": {
      "text/plain": [
       "count    125.000000\n",
       "mean       0.000404\n",
       "std        0.000002\n",
       "min        0.000396\n",
       "25%        0.000403\n",
       "50%        0.000405\n",
       "75%        0.000406\n",
       "max        0.000412\n",
       "Name: xco2 (Moles Mole^{-1}), dtype: float64"
      ]
     },
     "execution_count": 95,
     "metadata": {},
     "output_type": "execute_result"
    }
   ],
   "source": [
    "oco_19['xco2 (Moles Mole^{-1})'].describe()"
   ]
  },
  {
   "cell_type": "code",
   "execution_count": null,
   "metadata": {},
   "outputs": [],
   "source": []
  }
 ],
 "metadata": {
  "kernelspec": {
   "display_name": "Python 3",
   "language": "python",
   "name": "python3"
  },
  "language_info": {
   "codemirror_mode": {
    "name": "ipython",
    "version": 3
   },
   "file_extension": ".py",
   "mimetype": "text/x-python",
   "name": "python",
   "nbconvert_exporter": "python",
   "pygments_lexer": "ipython3",
   "version": "3.6.11"
  }
 },
 "nbformat": 4,
 "nbformat_minor": 4
}
