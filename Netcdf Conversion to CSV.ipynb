{
 "cells": [
  {
   "cell_type": "code",
   "execution_count": 2,
   "metadata": {},
   "outputs": [],
   "source": [
    "import netCDF4\n",
    "import pandas as pd\n",
    "import matplotlib.pyplot as plt"
   ]
  },
  {
   "cell_type": "code",
   "execution_count": 76,
   "metadata": {},
   "outputs": [],
   "source": [
    "import numpy as np"
   ]
  },
  {
   "cell_type": "code",
   "execution_count": 3,
   "metadata": {},
   "outputs": [],
   "source": [
    "nc = netCDF4.Dataset(\"oco_fl_data.nc\")"
   ]
  },
  {
   "cell_type": "code",
   "execution_count": 57,
   "metadata": {},
   "outputs": [
    {
     "name": "stdout",
     "output_type": "stream",
     "text": [
      "<class 'netCDF4._netCDF4.Dataset'>\n",
      "root group (NETCDF4 data model, file format HDF5):\n",
      "    source_dataset_version: OCO-2 L2Std v10\n",
      "    format: NetCDF-4/HDF-5\n",
      "    conventions: CF-1.6\n",
      "    source: OCO-2 Level 2 Full Physics Standard Product\n",
      "    contact: http://co2.jpl.nasa.gov\n",
      "    calendar: 365\n",
      "    institution: Jet Propulsion Laboratory\n",
      "    processing_level: L2\n",
      "    title: OCO2L2Stdv10 - Level 2 Subsetted Product\n",
      "    dimensions(sizes): points_dimension(3996)\n",
      "    variables(dimensions): <class 'str'> time(points_dimension), float64 lon(points_dimension), float64 lat(points_dimension), float64 alt(points_dimension), float32 xco2(points_dimension), float32 xco2_uncert(points_dimension)\n",
      "    groups: \n"
     ]
    }
   ],
   "source": [
    "# Access the metadata, the conventional way\n",
    "# Shows file format, data source, data version, citation, dimensions, and variables\n",
    "\n",
    "print(nc)"
   ]
  },
  {
   "cell_type": "code",
   "execution_count": 5,
   "metadata": {},
   "outputs": [
    {
     "name": "stdout",
     "output_type": "stream",
     "text": [
      "OrderedDict([('source_dataset_version', 'OCO-2 L2Std v10'), ('format', 'NetCDF-4/HDF-5'), ('conventions', 'CF-1.6'), ('source', 'OCO-2 Level 2 Full Physics Standard Product'), ('contact', 'http://co2.jpl.nasa.gov'), ('calendar', '365'), ('institution', 'Jet Propulsion Laboratory'), ('processing_level', 'L2'), ('title', 'OCO2L2Stdv10 - Level 2 Subsetted Product')])\n"
     ]
    }
   ],
   "source": [
    "# Access metadata as Dictionary\n",
    "\n",
    "print(nc.__dict__)"
   ]
  },
  {
   "cell_type": "code",
   "execution_count": 7,
   "metadata": {},
   "outputs": [
    {
     "name": "stdout",
     "output_type": "stream",
     "text": [
      "<class 'netCDF4._netCDF4.Dimension'>: name = 'points_dimension', size = 3996\n"
     ]
    }
   ],
   "source": [
    "# Do this if there are more than one dimension size, in this case there's only one\n",
    "# Access individual dimension by nc.dimensions['dimension_name']\n",
    "\n",
    "for dim in nc.dimensions.values():\n",
    "    print(dim)"
   ]
  },
  {
   "cell_type": "code",
   "execution_count": 8,
   "metadata": {
    "scrolled": false
   },
   "outputs": [
    {
     "name": "stdout",
     "output_type": "stream",
     "text": [
      "<class 'netCDF4._netCDF4.Variable'>\n",
      "vlen time(points_dimension)\n",
      "    long_name: Coordinated Universal Time (UTC)\n",
      "    format: YYYYMMDDHHMMSS\n",
      "vlen data type: <class 'str'>\n",
      "unlimited dimensions: \n",
      "current shape = (3996,)\n",
      "<class 'netCDF4._netCDF4.Variable'>\n",
      "float64 lon(points_dimension)\n",
      "    units: degrees east\n",
      "    long_name: longitude\n",
      "unlimited dimensions: \n",
      "current shape = (3996,)\n",
      "filling on, default _FillValue of 9.969209968386869e+36 used\n",
      "<class 'netCDF4._netCDF4.Variable'>\n",
      "float64 lat(points_dimension)\n",
      "    units: degrees north\n",
      "    long_name: latitude\n",
      "unlimited dimensions: \n",
      "current shape = (3996,)\n",
      "filling on, default _FillValue of 9.969209968386869e+36 used\n",
      "<class 'netCDF4._netCDF4.Variable'>\n",
      "float64 alt(points_dimension)\n",
      "    units: km\n",
      "    long_name: altitude\n",
      "unlimited dimensions: \n",
      "current shape = (3996,)\n",
      "filling on, default _FillValue of 9.969209968386869e+36 used\n",
      "<class 'netCDF4._netCDF4.Variable'>\n",
      "float32 xco2(points_dimension)\n",
      "    units: Moles Mole^{-1}\n",
      "    invalid_value: -999999.0\n",
      "    description: Column-averaged CO2 dry air mole fraction\n",
      "unlimited dimensions: \n",
      "current shape = (3996,)\n",
      "filling on, default _FillValue of 9.969209968386869e+36 used\n",
      "<class 'netCDF4._netCDF4.Variable'>\n",
      "float32 xco2_uncert(points_dimension)\n",
      "    units: Moles Mole^{-1}\n",
      "    invalid_value: -999999.0\n",
      "    description: Uncertainty in column averaged CO2 dry air mole fraction\n",
      "unlimited dimensions: \n",
      "current shape = (3996,)\n",
      "filling on, default _FillValue of 9.969209968386869e+36 used\n"
     ]
    }
   ],
   "source": [
    "# Access vaiable metadata\n",
    "\n",
    "for var in nc.variables.values():\n",
    "    print(var)"
   ]
  },
  {
   "cell_type": "markdown",
   "metadata": {},
   "source": [
    "### Retrieve Data Values of Interest \n",
    "In this case, it's the xCO2 values. Data is downloaded from NASA website (https://co2.jpl.nasa.gov)"
   ]
  },
  {
   "cell_type": "code",
   "execution_count": 58,
   "metadata": {},
   "outputs": [],
   "source": [
    "time_var = nc.variables['time']"
   ]
  },
  {
   "cell_type": "code",
   "execution_count": 59,
   "metadata": {
    "scrolled": true
   },
   "outputs": [
    {
     "data": {
      "text/plain": [
       "<class 'netCDF4._netCDF4.Variable'>\n",
       "vlen time(points_dimension)\n",
       "    long_name: Coordinated Universal Time (UTC)\n",
       "    format: YYYYMMDDHHMMSS\n",
       "vlen data type: <class 'str'>\n",
       "unlimited dimensions: \n",
       "current shape = (3996,)"
      ]
     },
     "execution_count": 59,
     "metadata": {},
     "output_type": "execute_result"
    }
   ],
   "source": [
    "# Variable time has long_name of 'Coordinated Universal Time (UTC)', and format of 'YYYYMMDDHHMMSS'\n",
    "\n",
    "time_var"
   ]
  },
  {
   "cell_type": "code",
   "execution_count": 60,
   "metadata": {},
   "outputs": [
    {
     "data": {
      "text/plain": [
       "('points_dimension',)"
      ]
     },
     "execution_count": 60,
     "metadata": {},
     "output_type": "execute_result"
    }
   ],
   "source": [
    "# This variable only has one dimension, named \"points_dimension\"\n",
    "\n",
    "time_var.dimensions"
   ]
  },
  {
   "cell_type": "code",
   "execution_count": 62,
   "metadata": {},
   "outputs": [
    {
     "name": "stdout",
     "output_type": "stream",
     "text": [
      "['20140907191130' '20140907191131' '20140907191131' ... '20140922183058'\n",
      " '20140922183058' '20140922183058']\n"
     ]
    }
   ],
   "source": [
    "# Reading that variable, which in this case is an array of (3996,)\n",
    "\n",
    "time = time_var[:]\n",
    "print(time)"
   ]
  },
  {
   "cell_type": "code",
   "execution_count": 71,
   "metadata": {},
   "outputs": [
    {
     "name": "stdout",
     "output_type": "stream",
     "text": [
      "[25.68096352 25.71465683 25.70790291 ... 32.18590164 32.18090057\n",
      " 32.17573547]\n"
     ]
    }
   ],
   "source": [
    "lat = nc.variables['lat'][:]\n",
    "print(lat)"
   ]
  },
  {
   "cell_type": "code",
   "execution_count": 72,
   "metadata": {},
   "outputs": [
    {
     "name": "stdout",
     "output_type": "stream",
     "text": [
      "[-87.83446503 -87.85549164 -87.84738922 ... -81.47795868 -81.46549225\n",
      " -81.45307159]\n"
     ]
    }
   ],
   "source": [
    "lon = nc.variables['lon'][:]\n",
    "print(lon)"
   ]
  },
  {
   "cell_type": "code",
   "execution_count": 73,
   "metadata": {},
   "outputs": [
    {
     "name": "stdout",
     "output_type": "stream",
     "text": [
      "[0.00038603 0.00039089 0.00039106 ... 0.00039077 0.00038847 0.00038641]\n"
     ]
    }
   ],
   "source": [
    "xco2 = nc.variables['xco2'][:]\n",
    "print(xco2)"
   ]
  },
  {
   "cell_type": "code",
   "execution_count": 81,
   "metadata": {},
   "outputs": [
    {
     "name": "stdout",
     "output_type": "stream",
     "text": [
      "[1.3657205e-06 1.1430939e-06 1.3678181e-06 ... 6.7961605e-07 6.2806271e-07\n",
      " 6.1870622e-07]\n"
     ]
    }
   ],
   "source": [
    "xco2_uncert = nc.variables['xco2_uncert'][:]\n",
    "print(xco2_uncert)"
   ]
  },
  {
   "cell_type": "code",
   "execution_count": 84,
   "metadata": {},
   "outputs": [],
   "source": [
    "final = pd.DataFrame(np.array([time, lat, lon, xco2, xco2_uncert])).T"
   ]
  },
  {
   "cell_type": "code",
   "execution_count": 85,
   "metadata": {},
   "outputs": [
    {
     "data": {
      "text/html": [
       "<div>\n",
       "<style scoped>\n",
       "    .dataframe tbody tr th:only-of-type {\n",
       "        vertical-align: middle;\n",
       "    }\n",
       "\n",
       "    .dataframe tbody tr th {\n",
       "        vertical-align: top;\n",
       "    }\n",
       "\n",
       "    .dataframe thead th {\n",
       "        text-align: right;\n",
       "    }\n",
       "</style>\n",
       "<table border=\"1\" class=\"dataframe\">\n",
       "  <thead>\n",
       "    <tr style=\"text-align: right;\">\n",
       "      <th></th>\n",
       "      <th>0</th>\n",
       "      <th>1</th>\n",
       "      <th>2</th>\n",
       "      <th>3</th>\n",
       "      <th>4</th>\n",
       "    </tr>\n",
       "  </thead>\n",
       "  <tbody>\n",
       "    <tr>\n",
       "      <th>0</th>\n",
       "      <td>20140907191130</td>\n",
       "      <td>25.681</td>\n",
       "      <td>-87.8345</td>\n",
       "      <td>0.000386026</td>\n",
       "      <td>1.36572e-06</td>\n",
       "    </tr>\n",
       "    <tr>\n",
       "      <th>1</th>\n",
       "      <td>20140907191131</td>\n",
       "      <td>25.7147</td>\n",
       "      <td>-87.8555</td>\n",
       "      <td>0.00039089</td>\n",
       "      <td>1.14309e-06</td>\n",
       "    </tr>\n",
       "    <tr>\n",
       "      <th>2</th>\n",
       "      <td>20140907191131</td>\n",
       "      <td>25.7079</td>\n",
       "      <td>-87.8474</td>\n",
       "      <td>0.000391056</td>\n",
       "      <td>1.36782e-06</td>\n",
       "    </tr>\n",
       "    <tr>\n",
       "      <th>3</th>\n",
       "      <td>20140907191131</td>\n",
       "      <td>25.7011</td>\n",
       "      <td>-87.8393</td>\n",
       "      <td>0.000390469</td>\n",
       "      <td>1.35486e-06</td>\n",
       "    </tr>\n",
       "    <tr>\n",
       "      <th>4</th>\n",
       "      <td>20140907191132</td>\n",
       "      <td>25.7613</td>\n",
       "      <td>-87.854</td>\n",
       "      <td>0.000382264</td>\n",
       "      <td>1.15966e-06</td>\n",
       "    </tr>\n",
       "    <tr>\n",
       "      <th>...</th>\n",
       "      <td>...</td>\n",
       "      <td>...</td>\n",
       "      <td>...</td>\n",
       "      <td>...</td>\n",
       "      <td>...</td>\n",
       "    </tr>\n",
       "    <tr>\n",
       "      <th>3991</th>\n",
       "      <td>20140922183058</td>\n",
       "      <td>32.1627</td>\n",
       "      <td>-81.4596</td>\n",
       "      <td>0.000393531</td>\n",
       "      <td>6.3686e-07</td>\n",
       "    </tr>\n",
       "    <tr>\n",
       "      <th>3992</th>\n",
       "      <td>20140922183058</td>\n",
       "      <td>32.1575</td>\n",
       "      <td>-81.4472</td>\n",
       "      <td>0.000387889</td>\n",
       "      <td>5.66249e-07</td>\n",
       "    </tr>\n",
       "    <tr>\n",
       "      <th>3993</th>\n",
       "      <td>20140922183058</td>\n",
       "      <td>32.1859</td>\n",
       "      <td>-81.478</td>\n",
       "      <td>0.000390775</td>\n",
       "      <td>6.79616e-07</td>\n",
       "    </tr>\n",
       "    <tr>\n",
       "      <th>3994</th>\n",
       "      <td>20140922183058</td>\n",
       "      <td>32.1809</td>\n",
       "      <td>-81.4655</td>\n",
       "      <td>0.000388468</td>\n",
       "      <td>6.28063e-07</td>\n",
       "    </tr>\n",
       "    <tr>\n",
       "      <th>3995</th>\n",
       "      <td>20140922183058</td>\n",
       "      <td>32.1757</td>\n",
       "      <td>-81.4531</td>\n",
       "      <td>0.000386413</td>\n",
       "      <td>6.18706e-07</td>\n",
       "    </tr>\n",
       "  </tbody>\n",
       "</table>\n",
       "<p>3996 rows × 5 columns</p>\n",
       "</div>"
      ],
      "text/plain": [
       "                   0        1        2            3            4\n",
       "0     20140907191130   25.681 -87.8345  0.000386026  1.36572e-06\n",
       "1     20140907191131  25.7147 -87.8555   0.00039089  1.14309e-06\n",
       "2     20140907191131  25.7079 -87.8474  0.000391056  1.36782e-06\n",
       "3     20140907191131  25.7011 -87.8393  0.000390469  1.35486e-06\n",
       "4     20140907191132  25.7613  -87.854  0.000382264  1.15966e-06\n",
       "...              ...      ...      ...          ...          ...\n",
       "3991  20140922183058  32.1627 -81.4596  0.000393531   6.3686e-07\n",
       "3992  20140922183058  32.1575 -81.4472  0.000387889  5.66249e-07\n",
       "3993  20140922183058  32.1859  -81.478  0.000390775  6.79616e-07\n",
       "3994  20140922183058  32.1809 -81.4655  0.000388468  6.28063e-07\n",
       "3995  20140922183058  32.1757 -81.4531  0.000386413  6.18706e-07\n",
       "\n",
       "[3996 rows x 5 columns]"
      ]
     },
     "execution_count": 85,
     "metadata": {},
     "output_type": "execute_result"
    }
   ],
   "source": [
    "final"
   ]
  },
  {
   "cell_type": "code",
   "execution_count": 86,
   "metadata": {},
   "outputs": [],
   "source": [
    "final.columns = ['Time', 'Lat', 'Long', 'xCO2', 'xCO2_uncert']"
   ]
  },
  {
   "cell_type": "code",
   "execution_count": 93,
   "metadata": {},
   "outputs": [
    {
     "data": {
      "text/plain": [
       "0      2014-09-07 19:11:30+00:00\n",
       "1      2014-09-07 19:11:31+00:00\n",
       "2      2014-09-07 19:11:31+00:00\n",
       "3      2014-09-07 19:11:31+00:00\n",
       "4      2014-09-07 19:11:32+00:00\n",
       "                  ...           \n",
       "3991   2014-09-22 18:30:58+00:00\n",
       "3992   2014-09-22 18:30:58+00:00\n",
       "3993   2014-09-22 18:30:58+00:00\n",
       "3994   2014-09-22 18:30:58+00:00\n",
       "3995   2014-09-22 18:30:58+00:00\n",
       "Name: Time, Length: 3996, dtype: datetime64[ns, UTC]"
      ]
     },
     "execution_count": 93,
     "metadata": {},
     "output_type": "execute_result"
    }
   ],
   "source": [
    "pd.to_datetime(final['Time'], utc=True)"
   ]
  },
  {
   "cell_type": "code",
   "execution_count": 96,
   "metadata": {},
   "outputs": [],
   "source": [
    "final['Time'] = pd.to_datetime(final['Time'], utc=True)"
   ]
  },
  {
   "cell_type": "code",
   "execution_count": 97,
   "metadata": {},
   "outputs": [
    {
     "data": {
      "text/plain": [
       "datetime64[ns, UTC]"
      ]
     },
     "execution_count": 97,
     "metadata": {},
     "output_type": "execute_result"
    }
   ],
   "source": [
    "final['Time'].dtype"
   ]
  },
  {
   "cell_type": "code",
   "execution_count": 98,
   "metadata": {},
   "outputs": [
    {
     "data": {
      "text/html": [
       "<div>\n",
       "<style scoped>\n",
       "    .dataframe tbody tr th:only-of-type {\n",
       "        vertical-align: middle;\n",
       "    }\n",
       "\n",
       "    .dataframe tbody tr th {\n",
       "        vertical-align: top;\n",
       "    }\n",
       "\n",
       "    .dataframe thead th {\n",
       "        text-align: right;\n",
       "    }\n",
       "</style>\n",
       "<table border=\"1\" class=\"dataframe\">\n",
       "  <thead>\n",
       "    <tr style=\"text-align: right;\">\n",
       "      <th></th>\n",
       "      <th>Time</th>\n",
       "      <th>Lat</th>\n",
       "      <th>Long</th>\n",
       "      <th>xCO2</th>\n",
       "      <th>xCO2_uncert</th>\n",
       "    </tr>\n",
       "  </thead>\n",
       "  <tbody>\n",
       "    <tr>\n",
       "      <th>0</th>\n",
       "      <td>2014-09-07 19:11:30+00:00</td>\n",
       "      <td>25.681</td>\n",
       "      <td>-87.8345</td>\n",
       "      <td>0.000386026</td>\n",
       "      <td>1.36572e-06</td>\n",
       "    </tr>\n",
       "    <tr>\n",
       "      <th>1</th>\n",
       "      <td>2014-09-07 19:11:31+00:00</td>\n",
       "      <td>25.7147</td>\n",
       "      <td>-87.8555</td>\n",
       "      <td>0.00039089</td>\n",
       "      <td>1.14309e-06</td>\n",
       "    </tr>\n",
       "    <tr>\n",
       "      <th>2</th>\n",
       "      <td>2014-09-07 19:11:31+00:00</td>\n",
       "      <td>25.7079</td>\n",
       "      <td>-87.8474</td>\n",
       "      <td>0.000391056</td>\n",
       "      <td>1.36782e-06</td>\n",
       "    </tr>\n",
       "    <tr>\n",
       "      <th>3</th>\n",
       "      <td>2014-09-07 19:11:31+00:00</td>\n",
       "      <td>25.7011</td>\n",
       "      <td>-87.8393</td>\n",
       "      <td>0.000390469</td>\n",
       "      <td>1.35486e-06</td>\n",
       "    </tr>\n",
       "    <tr>\n",
       "      <th>4</th>\n",
       "      <td>2014-09-07 19:11:32+00:00</td>\n",
       "      <td>25.7613</td>\n",
       "      <td>-87.854</td>\n",
       "      <td>0.000382264</td>\n",
       "      <td>1.15966e-06</td>\n",
       "    </tr>\n",
       "    <tr>\n",
       "      <th>...</th>\n",
       "      <td>...</td>\n",
       "      <td>...</td>\n",
       "      <td>...</td>\n",
       "      <td>...</td>\n",
       "      <td>...</td>\n",
       "    </tr>\n",
       "    <tr>\n",
       "      <th>3991</th>\n",
       "      <td>2014-09-22 18:30:58+00:00</td>\n",
       "      <td>32.1627</td>\n",
       "      <td>-81.4596</td>\n",
       "      <td>0.000393531</td>\n",
       "      <td>6.3686e-07</td>\n",
       "    </tr>\n",
       "    <tr>\n",
       "      <th>3992</th>\n",
       "      <td>2014-09-22 18:30:58+00:00</td>\n",
       "      <td>32.1575</td>\n",
       "      <td>-81.4472</td>\n",
       "      <td>0.000387889</td>\n",
       "      <td>5.66249e-07</td>\n",
       "    </tr>\n",
       "    <tr>\n",
       "      <th>3993</th>\n",
       "      <td>2014-09-22 18:30:58+00:00</td>\n",
       "      <td>32.1859</td>\n",
       "      <td>-81.478</td>\n",
       "      <td>0.000390775</td>\n",
       "      <td>6.79616e-07</td>\n",
       "    </tr>\n",
       "    <tr>\n",
       "      <th>3994</th>\n",
       "      <td>2014-09-22 18:30:58+00:00</td>\n",
       "      <td>32.1809</td>\n",
       "      <td>-81.4655</td>\n",
       "      <td>0.000388468</td>\n",
       "      <td>6.28063e-07</td>\n",
       "    </tr>\n",
       "    <tr>\n",
       "      <th>3995</th>\n",
       "      <td>2014-09-22 18:30:58+00:00</td>\n",
       "      <td>32.1757</td>\n",
       "      <td>-81.4531</td>\n",
       "      <td>0.000386413</td>\n",
       "      <td>6.18706e-07</td>\n",
       "    </tr>\n",
       "  </tbody>\n",
       "</table>\n",
       "<p>3996 rows × 5 columns</p>\n",
       "</div>"
      ],
      "text/plain": [
       "                          Time      Lat     Long         xCO2  xCO2_uncert\n",
       "0    2014-09-07 19:11:30+00:00   25.681 -87.8345  0.000386026  1.36572e-06\n",
       "1    2014-09-07 19:11:31+00:00  25.7147 -87.8555   0.00039089  1.14309e-06\n",
       "2    2014-09-07 19:11:31+00:00  25.7079 -87.8474  0.000391056  1.36782e-06\n",
       "3    2014-09-07 19:11:31+00:00  25.7011 -87.8393  0.000390469  1.35486e-06\n",
       "4    2014-09-07 19:11:32+00:00  25.7613  -87.854  0.000382264  1.15966e-06\n",
       "...                        ...      ...      ...          ...          ...\n",
       "3991 2014-09-22 18:30:58+00:00  32.1627 -81.4596  0.000393531   6.3686e-07\n",
       "3992 2014-09-22 18:30:58+00:00  32.1575 -81.4472  0.000387889  5.66249e-07\n",
       "3993 2014-09-22 18:30:58+00:00  32.1859  -81.478  0.000390775  6.79616e-07\n",
       "3994 2014-09-22 18:30:58+00:00  32.1809 -81.4655  0.000388468  6.28063e-07\n",
       "3995 2014-09-22 18:30:58+00:00  32.1757 -81.4531  0.000386413  6.18706e-07\n",
       "\n",
       "[3996 rows x 5 columns]"
      ]
     },
     "execution_count": 98,
     "metadata": {},
     "output_type": "execute_result"
    }
   ],
   "source": [
    "final"
   ]
  },
  {
   "cell_type": "code",
   "execution_count": 99,
   "metadata": {},
   "outputs": [],
   "source": [
    "final.to_csv('xco2_final.csv')"
   ]
  },
  {
   "cell_type": "code",
   "execution_count": null,
   "metadata": {},
   "outputs": [],
   "source": []
  }
 ],
 "metadata": {
  "kernelspec": {
   "display_name": "Python 3",
   "language": "python",
   "name": "python3"
  },
  "language_info": {
   "codemirror_mode": {
    "name": "ipython",
    "version": 3
   },
   "file_extension": ".py",
   "mimetype": "text/x-python",
   "name": "python",
   "nbconvert_exporter": "python",
   "pygments_lexer": "ipython3",
   "version": "3.6.11"
  }
 },
 "nbformat": 4,
 "nbformat_minor": 4
}
